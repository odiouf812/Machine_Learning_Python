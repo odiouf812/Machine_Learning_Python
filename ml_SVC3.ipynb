{
 "cells": [
  {
   "cell_type": "markdown",
   "id": "905f17e8-dfaa-4186-94e8-53921a7bf779",
   "metadata": {},
   "source": [
    "SVM-Anova: SVM with univariate feature selection"
   ]
  },
  {
   "cell_type": "markdown",
   "id": "e889ca92-63c5-46d8-9ae6-1e81ec8ca7bc",
   "metadata": {},
   "source": [
    "This example shows how to perform univariate feature selection before running a SVC (support vector classifier) to improve the classification scores. We use the iris dataset (4 features) and add 36 non-informative features. We can find that our model achieves best performance when we select around 10% of features."
   ]
  },
  {
   "cell_type": "markdown",
   "id": "e963365b-bdd3-4219-b513-f90a83ad94c0",
   "metadata": {},
   "source": [
    "Load some data to play with"
   ]
  },
  {
   "cell_type": "code",
   "execution_count": 1,
   "id": "75ca684c-9db2-45f5-abf7-940f0e48f273",
   "metadata": {},
   "outputs": [],
   "source": [
    "import numpy as np"
   ]
  },
  {
   "cell_type": "code",
   "execution_count": 2,
   "id": "b9915e72-d380-4d3b-93d9-56a03281d60e",
   "metadata": {},
   "outputs": [],
   "source": [
    "from sklearn.datasets import load_iris"
   ]
  },
  {
   "cell_type": "code",
   "execution_count": 3,
   "id": "dacd1b79-082c-4b56-a465-eaa73d0f54af",
   "metadata": {},
   "outputs": [],
   "source": [
    "X, y = load_iris(return_X_y=True)"
   ]
  },
  {
   "cell_type": "markdown",
   "id": "60d7d731-56fb-4339-ae36-463897fb4612",
   "metadata": {},
   "source": [
    "# Add non-informative features"
   ]
  },
  {
   "cell_type": "code",
   "execution_count": 4,
   "id": "8abb431f-786f-4a9b-8639-0928ffdccc12",
   "metadata": {},
   "outputs": [],
   "source": [
    "rng = np.random.RandomState(0)"
   ]
  },
  {
   "cell_type": "code",
   "execution_count": 5,
   "id": "00452ca3-35d9-4d1c-8e86-68ec1e2cd065",
   "metadata": {},
   "outputs": [],
   "source": [
    "X = np.hstack((X, 2 * rng.random((X.shape[0], 36))))"
   ]
  },
  {
   "cell_type": "code",
   "execution_count": 6,
   "id": "3e24eb26-927c-4f78-9129-01ed22780f8a",
   "metadata": {},
   "outputs": [
    {
     "data": {
      "text/plain": [
       "array([[5.1       , 3.5       , 1.4       , ..., 1.1368679 , 0.0375796 ,\n",
       "        1.23527099],\n",
       "       [4.9       , 3.        , 1.4       , ..., 0.19219682, 1.95291893,\n",
       "        0.9373024 ],\n",
       "       [4.7       , 3.2       , 1.3       , ..., 1.15231467, 1.18408386,\n",
       "        1.14450381],\n",
       "       ...,\n",
       "       [6.5       , 3.        , 5.2       , ..., 0.8168546 , 1.4421851 ,\n",
       "        1.87060082],\n",
       "       [6.2       , 3.4       , 5.4       , ..., 0.20947559, 0.22710621,\n",
       "        0.83360661],\n",
       "       [5.9       , 3.        , 5.1       , ..., 0.25893904, 0.03081289,\n",
       "        0.77348467]])"
      ]
     },
     "execution_count": 6,
     "metadata": {},
     "output_type": "execute_result"
    }
   ],
   "source": [
    "X"
   ]
  },
  {
   "cell_type": "code",
   "execution_count": null,
   "id": "8d4b9cd0-ff77-4fd3-a15b-920fc7c372e0",
   "metadata": {},
   "outputs": [],
   "source": []
  }
 ],
 "metadata": {
  "kernelspec": {
   "display_name": "Python 3 (ipykernel)",
   "language": "python",
   "name": "python3"
  },
  "language_info": {
   "codemirror_mode": {
    "name": "ipython",
    "version": 3
   },
   "file_extension": ".py",
   "mimetype": "text/x-python",
   "name": "python",
   "nbconvert_exporter": "python",
   "pygments_lexer": "ipython3",
   "version": "3.11.7"
  }
 },
 "nbformat": 4,
 "nbformat_minor": 5
}
