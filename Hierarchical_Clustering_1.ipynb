{
 "cells": [
  {
   "cell_type": "markdown",
   "id": "22c438ba-89e8-42ae-abb4-c5f430461e67",
   "metadata": {},
   "source": [
    "\n",
    "Hierarchical Clustering in Machine Learning\n",
    "Last Updated : 11 Mar, 2024\n",
    "\n",
    "In data mining and statistics, hierarchical clustering analysis is a method of clustering analysis that seeks to build a hierarchy of clusters i.e. tree-type structure based on the hierarchy. \n",
    "\n",
    "In machine learning, clustering is the unsupervised learning technique that groups the data based on similarity between the set of data. There are different-different types of clustering algorithms in machine learning. Connectivity-based clustering: This type of clustering algorithm builds the cluster based on the connectivity between the data points. Example: Hierarchical clustering\n",
    "\n",
    "    Centroid-based clustering: This type of clustering algorithm forms around the centroids of the data points. Example: K-Means clustering, K-Mode clustering\n",
    "    Distribution-based clustering: This type of clustering algorithm is modeled using statistical distributions. It assumes that the data points in a cluster are generated from a particular probability distribution, and the algorithm aims to estimate the parameters of the distribution to group similar data points into clusters Example: Gaussian Mixture Models (GMM)\n",
    "    Density-based clustering: This type of clustering algorithm groups together data points that are in high-density concentrations and separates points in low-concentrations regions. The basic idea is that it identifies regions in the data space that have a high density of data points and groups those points together into clusters. Example: DBSCAN(Density-Based Spatial Clustering of Applications with Noise)\n"
   ]
  },
  {
   "cell_type": "markdown",
   "id": "a247d35f-4162-4f8b-8aa7-e3fd90f8aa2e",
   "metadata": {},
   "source": [
    "Hierarchical clustering\n",
    "\n",
    "Hierarchical clustering is a connectivity-based clustering model that groups the data points together that are close to each other based on the measure of similarity or distance. The assumption is that data points that are close to each other are more similar or related than data points that are farther apart.\n",
    "\n",
    "A dendrogram, a tree-like figure produced by hierarchical clustering, depicts the hierarchical relationships between groups. Individual data points are located at the bottom of the dendrogram, while the largest clusters, which include all the data points, are located at the top. In order to generate different numbers of clusters, the dendrogram can be sliced at various heights."
   ]
  },
  {
   "cell_type": "markdown",
   "id": "206a0653-3950-47ed-a33b-ff16b138cdd9",
   "metadata": {},
   "source": [
    "The dendrogram is created by iteratively merging or splitting clusters based on a measure of similarity or distance between data points. Clusters are divided or merged repeatedly until all data points are contained within a single cluster, or until the predetermined number of clusters is attained.\n",
    "\n",
    "We can look at the dendrogram and measure the height at which the branches of the dendrogram form distinct clusters to calculate the ideal number of clusters. The dendrogram can be sliced at this height to determine the number of clusters."
   ]
  },
  {
   "cell_type": "markdown",
   "id": "3718112e-0256-4bfc-a209-b6237960815e",
   "metadata": {},
   "source": [
    "Types of Hierarchical Clustering\n",
    "\n",
    "Basically, there are two types of hierarchical Clustering:\n",
    "\n",
    "    Agglomerative Clustering\n",
    "    Divisive clustering\n"
   ]
  },
  {
   "cell_type": "markdown",
   "id": "9d2ff3ad-0630-4d31-8a85-07429f78780f",
   "metadata": {},
   "source": [
    "Hierarchical Agglomerative Clustering\n",
    "\n",
    "It is also known as the bottom-up approach or hierarchical agglomerative clustering (HAC). A structure that is more informative than the unstructured set of clusters returned by flat clustering. This clustering algorithm does not require us to prespecify the number of clusters. Bottom-up algorithms treat each data as a singleton cluster at the outset and then successively agglomerate pairs of clusters until all clusters have been merged into a single cluster that contains all data. "
   ]
  },
  {
   "cell_type": "code",
   "execution_count": 3,
   "id": "acd397fe-1a76-42d3-b5b5-9b22051b7449",
   "metadata": {},
   "outputs": [],
   "source": [
    "# Algorithm "
   ]
  },
  {
   "cell_type": "markdown",
   "id": "12a15dfc-8b59-4325-bf55-22d92bb6c30f",
   "metadata": {},
   "source": [
    "given a dataset (d1, d2, d3, ....dN) of size N\n",
    "# compute the distance matrix\n",
    "for i=1 to N:\n",
    "   # as the distance matrix is symmetric about \n",
    "   # the primary diagonal so we compute only lower \n",
    "   # part of the primary diagonal \n",
    "   for j=1 to i:\n",
    "      dis_mat[i][j] = distance[di, dj] \n",
    "each data point is a singleton cluster\n",
    "repeat\n",
    "   merge the two cluster having minimum distance\n",
    "   update the distance matrix\n",
    "until only a single cluster remains"
   ]
  },
  {
   "cell_type": "markdown",
   "id": "cada9f9c-5de4-4eea-891c-ee2155e30990",
   "metadata": {},
   "source": [
    "Steps:\n",
    "\n",
    "    Consider each alphabet as a single cluster and calculate the distance of one cluster from all the other clusters.\n",
    "    In the second step, comparable clusters are merged together to form a single cluster. Let’s say cluster (B) and cluster (C) are very similar to each other therefore we merge them in the second step similarly to cluster (D) and (E) and at last, we get the clusters [(A), (BC), (DE), (F)]\n",
    "    We recalculate the proximity according to the algorithm and merge the two nearest clusters([(DE), (F)]) together to form new clusters as [(A), (BC), (DEF)]\n",
    "    Repeating the same process; The clusters DEF and BC are comparable and merged together to form a new cluster. We’re now left with clusters [(A), (BCDEF)].\n",
    "    At last, the two remaining clusters are merged together to form a single cluster [(ABCDEF)].\n"
   ]
  },
  {
   "cell_type": "code",
   "execution_count": 5,
   "id": "e2cef4ba-be93-4787-a037-dfd8bfe8b96b",
   "metadata": {},
   "outputs": [
    {
     "name": "stdout",
     "output_type": "stream",
     "text": [
      "[1 1 1 0 0 0]\n"
     ]
    }
   ],
   "source": [
    "from sklearn.cluster import AgglomerativeClustering \n",
    "import numpy as np \n",
    "\n",
    "# randomly chosen dataset \n",
    "X = np.array([[1, 2], [1, 4], [1, 0], \n",
    "\t\t\t[4, 2], [4, 4], [4, 0]]) \n",
    "\n",
    "# here we need to mention the number of clusters \n",
    "# otherwise the result will be a single cluster \n",
    "# containing all the data \n",
    "clustering = AgglomerativeClustering(n_clusters=2).fit(X) \n",
    "\n",
    "# print the class labels \n",
    "print(clustering.labels_) "
   ]
  },
  {
   "cell_type": "markdown",
   "id": "1b3b072b-f621-4408-a03b-8b1f9412ac16",
   "metadata": {},
   "source": [
    "Hierarchical Divisive clustering\n",
    "\n",
    "It is also known as a top-down approach. This algorithm also does not require to prespecify the number of clusters. Top-down clustering requires a method for splitting a cluster that contains the whole data and proceeds by splitting clusters recursively until individual data have been split into singleton clusters."
   ]
  },
  {
   "cell_type": "markdown",
   "id": "e1ff3144-7bc9-4c61-aac8-3f5af5810027",
   "metadata": {},
   "source": [
    "Algorithm : \n",
    "\n",
    "given a dataset (d1, d2, d3, ....dN) of size N\n",
    "at the top we have all data in one cluster\n",
    "the cluster is split using a flat clustering method eg. K-Means etc\n",
    "repeat\n",
    "choose the best cluster among all the clusters to split\n",
    "split that cluster by the flat clustering algorithm\n",
    "until each data is in its own singleton cluster"
   ]
  },
  {
   "cell_type": "markdown",
   "id": "11aa5c46-25ab-440c-a162-00efd20aafc3",
   "metadata": {},
   "source": [
    "Computing Distance Matrix\n",
    "\n",
    "While merging two clusters we check the distance between two every pair of clusters and merge the pair with the least distance/most similarity. But the question is how is that distance determined. There are different ways of defining Inter Cluster distance/similarity. Some of them are:\n",
    "\n",
    "    Min Distance: Find the minimum distance between any two points of the cluster.\n",
    "    Max Distance: Find the maximum distance between any two points of the cluster.\n",
    "    Group Average: Find the average distance between every two points of the clusters.\n",
    "    Ward’s Method: The similarity of two clusters is based on the increase in squared error when two clusters are merged."
   ]
  },
  {
   "cell_type": "code",
   "execution_count": 7,
   "id": "eb2055e1-08e9-4a65-984e-2826c2ef2e81",
   "metadata": {},
   "outputs": [],
   "source": [
    "## Implementations code"
   ]
  },
  {
   "cell_type": "code",
   "execution_count": 11,
   "id": "c9aaaa3f-d817-4ef8-b3a0-b76f1cf1534b",
   "metadata": {},
   "outputs": [
    {
     "data": {
      "image/png": "[encoded data removed]",
      "text/plain": [
       "<Figure size 640x480 with 1 Axes>"
      ]
     },
     "metadata": {},
     "output_type": "display_data"
    }
   ],
   "source": [
    "import numpy as np \n",
    "from scipy.cluster.hierarchy import dendrogram, linkage \n",
    "import matplotlib.pyplot as plt \n",
    "\n",
    "# randomly chosen dataset \n",
    "X = np.array([[1, 2], [1, 4], [1, 0], \n",
    "\t\t\t[4, 2], [4, 4], [4, 0]]) \n",
    "\n",
    "# Perform hierarchical clustering \n",
    "Z = linkage(X, 'ward') \n",
    "\n",
    "# Plot dendrogram \n",
    "dendrogram(Z) \n",
    "\n",
    "plt.title('Hierarchical Clustering Dendrogram') \n",
    "plt.xlabel('Data point') \n",
    "plt.ylabel('Distance') \n",
    "plt.show()"
   ]
  },
  {
   "cell_type": "code",
   "execution_count": 9,
   "id": "76ad5234-225f-45a4-9fc7-b756eb4db041",
   "metadata": {},
   "outputs": [
    {
     "data": {
      "text/plain": [
       "array([[1, 2],\n",
       "       [1, 4],\n",
       "       [1, 0],\n",
       "       [4, 2],\n",
       "       [4, 4],\n",
       "       [4, 0]])"
      ]
     },
     "execution_count": 9,
     "metadata": {},
     "output_type": "execute_result"
    }
   ],
   "source": [
    "X"
   ]
  },
  {
   "cell_type": "markdown",
   "id": "12f04689-5100-4040-b18d-34753e0970cf",
   "metadata": {},
   "source": [
    "Hierarchical Agglomerative vs Divisive Clustering \n",
    "\n",
    "    Divisive clustering is more complex as compared to agglomerative clustering, as in the case of divisive clustering we need a flat clustering method as “subroutine” to split each cluster until we have each data having its own singleton cluster.\n",
    "    Divisive clustering is more efficient if we do not generate a complete hierarchy all the way down to individual data leaves. The time complexity of a naive agglomerative clustering is O(n3) because we exhaustively scan the N x N matrix dist_mat for the lowest distance in each of N-1 iterations. Using priority queue data structure we can reduce this complexity to O(n2logn). By using some more optimizations it can be brought down to O(n2). Whereas for divisive clustering given a fixed number of top levels, using an efficient flat algorithm like K-Means, divisive algorithms are linear in the number of patterns and clusters.\n",
    "    A divisive algorithm is also more accurate. Agglomerative clustering makes decisions by considering the local patterns or neighbor points without initially taking into account the global distribution of data. These early decisions cannot be undone. whereas divisive clustering takes into consideration the global distribution of data when making top-level partitioning decisions."
   ]
  },
  {
   "cell_type": "code",
   "execution_count": null,
   "id": "6e422063-df80-4404-aa51-c5f333a7d630",
   "metadata": {},
   "outputs": [],
   "source": []
  }
 ],
 "metadata": {
  "kernelspec": {
   "display_name": "Python 3 (ipykernel)",
   "language": "python",
   "name": "python3"
  },
  "language_info": {
   "codemirror_mode": {
    "name": "ipython",
    "version": 3
   },
   "file_extension": ".py",
   "mimetype": "text/x-python",
   "name": "python",
   "nbconvert_exporter": "python",
   "pygments_lexer": "ipython3",
   "version": "3.12.4"
  }
 },
 "nbformat": 4,
 "nbformat_minor": 5
}
